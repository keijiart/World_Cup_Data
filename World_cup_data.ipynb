{
 "cells": [
  {
   "cell_type": "markdown",
   "metadata": {},
   "source": [
    "# Visualizing World Cup Data With Seaborn\n",
    "\n",
    "For this project you will be exploring data from the Fifa World Cup from 1930-2014 to analyze trends and discover insights about the world’s game, fútbol!\n",
    "\n",
    "This Fifa World Cup data is from Kaggle. Kaggle is a platform for data science competitions that hosts many datasets online.\n",
    "\n",
    "Using Seaborn you will create a series of plots that explore aggregates and distribution across the goals scored in World Cup games.\n",
    "\n",
    "## A little primer on the Fifa World Cup:\n",
    "\n",
    "The FIFA World Cup, or simply the World Cup, is an international fútbol competition where 32 countries qualify to send teams made up of the best players from that nation to compete against each other for the World Cup championship.\n",
    "\n",
    "The World Cup championship has been awarded every four years since the inaugural tournament in 1930, except in 1942 and 1946 when it was not held because of the Second World War.\n",
    "\n",
    "The current format of the tournament involves 32 teams competing for the title at venues within the host nation over a period of one month."
   ]
  },
  {
   "cell_type": "markdown",
   "metadata": {},
   "source": [
    "## Visualize"
   ]
  },
  {
   "cell_type": "markdown",
   "metadata": {},
   "source": [
    "1. Import the modules that you’ll be using in this project:\n",
    "- import codecademylib3_seaborn\n",
    "- from matplotlib import pyplot as plt\n",
    "- import pandas as pd\n",
    "- import seaborn as sns"
   ]
  },
  {
   "cell_type": "code",
   "execution_count": null,
   "metadata": {},
   "outputs": [],
   "source": []
  },
  {
   "cell_type": "markdown",
   "metadata": {},
   "source": [
    "2. Inspect the raw CSV files that you will be using in this project by selecting them in the file navigator."
   ]
  },
  {
   "cell_type": "code",
   "execution_count": null,
   "metadata": {},
   "outputs": [],
   "source": []
  },
  {
   "cell_type": "markdown",
   "metadata": {},
   "source": [
    "3. Load WorldCupMatches.csv into a DataFrame called df. This will allow you to eventually plot the DataFrame with Seaborn."
   ]
  },
  {
   "cell_type": "code",
   "execution_count": null,
   "metadata": {},
   "outputs": [],
   "source": []
  },
  {
   "cell_type": "markdown",
   "metadata": {},
   "source": [
    "4. It is usually a good idea to check any new DataFrame to make sure the results are as expected.\n",
    "\n",
    "    Inspect the DataFrame using .head(). Make sure to use print() to wrap any output you want to inspect."
   ]
  },
  {
   "cell_type": "code",
   "execution_count": null,
   "metadata": {},
   "outputs": [],
   "source": []
  },
  {
   "cell_type": "markdown",
   "metadata": {},
   "source": [
    "5. The data in WorldCupMatches.csv has the goals scored in each match broken up by goals for the home team and goals for the away team. We want to visualize the total number of goals scored in each match.\n",
    "\n",
    "    Create a new column in df named Total Goals, and set it equal to the sum of the columns Home Team Goals and Away Team Goals.\n",
    "\n",
    "    Print the results of df.head() to confirm your new column."
   ]
  },
  {
   "cell_type": "code",
   "execution_count": null,
   "metadata": {},
   "outputs": [],
   "source": []
  },
  {
   "cell_type": "markdown",
   "metadata": {},
   "source": [
    "6. You are going to create a bar chart visualizing how many goals were scored each year the World Cup was held between 1930-2014.\n",
    "\n",
    "    Set the style of your plot to be whitegrid . This will add gridlines to the plot which will make it easier to read the visualization."
   ]
  },
  {
   "cell_type": "code",
   "execution_count": null,
   "metadata": {},
   "outputs": [],
   "source": []
  },
  {
   "cell_type": "markdown",
   "metadata": {},
   "source": [
    "7. To make the text in your visualization bigger and easier to read, set the context to be \"poster\".\n",
    "\n",
    "    If you would like to further adjust the font size of your plot, you can pass sns.set_context() a second optional argument using the keyword font_scale."
   ]
  },
  {
   "cell_type": "code",
   "execution_count": null,
   "metadata": {},
   "outputs": [],
   "source": []
  },
  {
   "cell_type": "markdown",
   "metadata": {},
   "source": [
    "8. Create a figure and axes for your plot using the syntax:\n",
    "\n",
    "    `f, ax = plt.subplots()`\n",
    "\n",
    "    Inside of plt.subplots(), set the size of the figure to be 12 inches wide and 7 inches tall."
   ]
  },
  {
   "cell_type": "code",
   "execution_count": null,
   "metadata": {},
   "outputs": [],
   "source": []
  },
  {
   "cell_type": "markdown",
   "metadata": {},
   "source": [
    "9. Using the data in df and the syntax:\n",
    "\n",
    "    `ax = sns.barplot()`\n",
    "    \n",
    "    visualize the columns Year and Total Goals as a bar chart.\n",
    "\n",
    "    Year should be on the x-axis, and Total Goals should be on the y-axis."
   ]
  },
  {
   "cell_type": "code",
   "execution_count": null,
   "metadata": {},
   "outputs": [],
   "source": []
  },
  {
   "cell_type": "markdown",
   "metadata": {},
   "source": [
    "10. Render your bar chart so you can see it."
   ]
  },
  {
   "cell_type": "code",
   "execution_count": null,
   "metadata": {},
   "outputs": [],
   "source": []
  },
  {
   "cell_type": "markdown",
   "metadata": {},
   "source": [
    "11. Effective visualizations include a clear title.\n",
    "\n",
    "    Give your bar chart a meaningful title using ax.set_title()."
   ]
  },
  {
   "cell_type": "code",
   "execution_count": null,
   "metadata": {},
   "outputs": [],
   "source": []
  },
  {
   "cell_type": "markdown",
   "metadata": {},
   "source": [
    "12. Now you are going to create a box plot so you can visualize the distribution of the goals data instead of just the average with a bar chart.\n",
    "\n",
    "    Load goals.csv into a DataFrame called df_goals, and take a quick look at the DataFrame using .head()."
   ]
  },
  {
   "cell_type": "code",
   "execution_count": null,
   "metadata": {},
   "outputs": [],
   "source": []
  },
  {
   "cell_type": "markdown",
   "metadata": {},
   "source": [
    "13. Experimenting with different contexts and font scales can help you decide on the best context and font scale for the particular visualization.\n",
    "\n",
    "    Try setting the context of the plot to be notebook and the font_scale to be 1.25."
   ]
  },
  {
   "cell_type": "code",
   "execution_count": null,
   "metadata": {},
   "outputs": [],
   "source": []
  },
  {
   "cell_type": "markdown",
   "metadata": {},
   "source": [
    "14. Create a figure for your second plot.\n",
    "\n",
    "    Set the variables f, ax2 and instantiate a figure that is 12 inches wide and 7 inches tall. "
   ]
  },
  {
   "cell_type": "code",
   "execution_count": null,
   "metadata": {},
   "outputs": [],
   "source": []
  },
  {
   "cell_type": "markdown",
   "metadata": {},
   "source": [
    "15. Set ax2 equal to a box plot with the color palette Spectral that visualizes the data in the DataFrame df_goals with the column year on the x-axis and goals on the y-axis."
   ]
  },
  {
   "cell_type": "code",
   "execution_count": null,
   "metadata": {},
   "outputs": [],
   "source": []
  },
  {
   "cell_type": "markdown",
   "metadata": {},
   "source": [
    "16. Give your box plot a meaningful and clear title."
   ]
  },
  {
   "cell_type": "code",
   "execution_count": null,
   "metadata": {},
   "outputs": [],
   "source": []
  },
  {
   "cell_type": "markdown",
   "metadata": {},
   "source": [
    "17. Render your box plot so you can see it."
   ]
  },
  {
   "cell_type": "code",
   "execution_count": null,
   "metadata": {},
   "outputs": [],
   "source": []
  }
 ],
 "metadata": {
  "language_info": {
   "name": "python"
  },
  "orig_nbformat": 4
 },
 "nbformat": 4,
 "nbformat_minor": 2
}
